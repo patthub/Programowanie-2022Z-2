{
  "nbformat": 4,
  "nbformat_minor": 0,
  "metadata": {
    "colab": {
      "name": "Programowanie_zaj_1",
      "provenance": []
    },
    "kernelspec": {
      "name": "python3",
      "display_name": "Python 3"
    },
    "language_info": {
      "name": "python"
    }
  },
  "cells": [
    {
      "cell_type": "markdown",
      "metadata": {
        "id": "m5itWpSkRBN8"
      },
      "source": [
        "\n",
        "# **Zajęcia nr 1. 04.10.2021**\n",
        "\n",
        "\n",
        "\n",
        "\n",
        "\n"
      ]
    },
    {
      "cell_type": "markdown",
      "metadata": {
        "id": "1v6Nbd2G7TC_"
      },
      "source": [
        "\n",
        "# Podstawy\n",
        "\n",
        "\n"
      ]
    },
    {
      "cell_type": "code",
      "metadata": {
        "id": "Kf9XPDre7Qox"
      },
      "source": [
        "print(\"Hello World!\")\n",
        "#polecenie wypisuje (drukuje) podany argument \n",
        "\n",
        "#komentarz \n",
        "\n",
        "#Co z komentarzami w wielu linijkach kodu?\n",
        "#wg PEP8 należy używać # w każdej linijce https://www.python.org/dev/peps/pep-0008/\n",
        "\n",
        "#control + / lub command + / po zaznaczeniu wybranych linijek kodu pozwala na natychmiastowe\n",
        "#stworzenie komentarza\n",
        "\n"
      ],
      "execution_count": null,
      "outputs": []
    },
    {
      "cell_type": "markdown",
      "metadata": {
        "id": "DijspH53DX2c"
      },
      "source": [
        "Zmienne"
      ]
    },
    {
      "cell_type": "code",
      "metadata": {
        "id": "MKP95O6sDWnL"
      },
      "source": [
        "#tworzenie zmiennych (deklaracja i inicjalizacja) polega na przypisaniu do określonego bytu pewnej wartości\n",
        "#schemat tworzenia zmiennej:\n",
        "##nazwa zmiennej = wartość zmiennej\n",
        "zmienna = 1\n",
        "print(1)\n",
        "print(zmienna)\n",
        "\n",
        "#Nazwy zmiennych\n",
        "#nie można (bądź nie powinno) używać nazw zmiennych które mogą zostać zinterpretowane przez Pythona jako obiekty, funkcje i metody\n",
        "#nazwy zmiennych nie moga mie spacji\n",
        "#case sensitive\n",
        "#zmienne wielowyrazowe zapisujemy za pomocą snake case (moja_zmienna_pierwsza)\n",
        "\n",
        "#Nazwy zmiennych powinny odzwierciedlać to, co reprezentują!\n"
      ],
      "execution_count": null,
      "outputs": []
    },
    {
      "cell_type": "markdown",
      "metadata": {
        "id": "9Q-hjDtBDS_y"
      },
      "source": [
        "Typy danych"
      ]
    },
    {
      "cell_type": "code",
      "metadata": {
        "colab": {
          "base_uri": "https://localhost:8080/"
        },
        "id": "Q2d8l1kdDVKr",
        "outputId": "133f9d46-45a2-4f6c-cea7-2530dbeebb9c"
      },
      "source": [
        "x1 = 1 #zmienna typu integer (liczba całkowita)\n",
        "x2 = 1.5 #zmienna typu float (liczba rzeczywista)\n",
        "x3 = True #zmienna typu boolean (True i False)\n",
        "x4 = \"Ala ma kota\" #zmienna typu String\n",
        "x5 = 'Ala ma psa' #zmienna typu String \n",
        "#x6 = 'Ala wydała książke pod tytułem 'Programowanie'' - problem z wykorzystaniem '' do zapisu danych typu string\n",
        "x7 = \"Ala wydała książke pod tytułem 'Programowanie'\"\n",
        "x8 = \"\"\" \n",
        "Ala ma kota\n",
        "a kot ma Ale \n",
        "\"\"\"\n",
        "\n",
        "#Jak sprawdzić z jakim typem danych mamy do czynienia?\n",
        "#funkcja type()\n",
        "\n",
        "type(\"1.5\")"
      ],
      "execution_count": null,
      "outputs": [
        {
          "output_type": "execute_result",
          "data": {
            "text/plain": [
              "str"
            ]
          },
          "metadata": {},
          "execution_count": 27
        }
      ]
    },
    {
      "cell_type": "markdown",
      "metadata": {
        "id": "aLMI5dbM9OkH"
      },
      "source": [
        "Zmienne numeryczne, operatory matematyczne"
      ]
    },
    {
      "cell_type": "code",
      "metadata": {
        "id": "nFyISePi9SJQ"
      },
      "source": [
        "# x + y #dodawanie\n",
        "# x - y #odejmowanie\n",
        "# x * y #mnożenie\n",
        "# x / y #dzielenie\n",
        "# x % y #operator modulo, reszta z dzielenia\n",
        "# x ** y #potęgowanie\n",
        "\n"
      ],
      "execution_count": null,
      "outputs": []
    },
    {
      "cell_type": "markdown",
      "metadata": {
        "id": "afggAaxIjBXL"
      },
      "source": [
        "Operatory porównania"
      ]
    },
    {
      "cell_type": "code",
      "metadata": {
        "id": "hhWAbjVyjDNi"
      },
      "source": [
        "# == jest równy\n",
        "# != nie jest równy\n",
        "# > większy niż\n",
        "# < mniejszy niż\n",
        "# >= większy lub równy\n",
        "# <= mniejszy lub równy\n",
        "\n",
        "#pytanie z boolean i operatorem < > \n",
        "#pytanie 1 == 1.0\n"
      ],
      "execution_count": null,
      "outputs": []
    }
  ]
}