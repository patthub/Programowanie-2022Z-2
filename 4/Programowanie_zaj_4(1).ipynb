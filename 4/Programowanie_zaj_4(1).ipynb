{
  "nbformat": 4,
  "nbformat_minor": 0,
  "metadata": {
    "colab": {
      "name": "Programowanie_zaj_4.ipynb",
      "provenance": []
    },
    "kernelspec": {
      "name": "python3",
      "display_name": "Python 3"
    },
    "language_info": {
      "name": "python"
    }
  },
  "cells": [
    {
      "cell_type": "code",
      "metadata": {
        "id": "CJlz-QrZKPWo"
      },
      "source": [
        "#Zadanie 1 - Formularz rejestracyjny\n",
        "#imie\n",
        "\n",
        "imie = input(\"Podaj swoje imię: \")\n",
        "\n",
        "if type(imie) == str and imie.isalpha():\n",
        "  print(f\"Cześć {imie}!\")\n",
        "else:\n",
        "  print(\"Błędne imię. Podaj poprawne dane\")\n",
        "\n",
        "#nazwisko\n",
        "\n",
        "nazwisko = input(\"Podaj swoje nazwisko: \")\n",
        "\n",
        "if type(nazwisko) == str and nazwisko.isalpha():\n",
        "  print(f\"Miło mi poznać {imie} {nazwisko}!\")\n",
        "else:\n",
        "  print(\"Błędne imię. Podaj poprawne dane\")\n",
        "\n",
        "#wiek\n",
        "\n",
        "wiek = input(\"Podaj swój wiek: \")\n",
        "\n",
        "if wiek.isdigit() == True:\n",
        "  wiek_int = int(wiek)\n",
        "  print(f\"Masz {wiek} lat\")\n",
        "else:\n",
        "  print(\"Podaj wiek w postaci liczby\")\n",
        "\n",
        "#haslo\n",
        "\n",
        "haslo = input(\"Podaj swoje hasło: \")\n",
        "powtorz_haslo = input(\"Powtórz hasło: \")\n",
        "\n",
        "if haslo != powtorz_haslo:\n",
        "  print(\"Podane hasła nie są takie same\")\n",
        "else:\n",
        "  print(\"Podane hasła są takie same\")\n"
      ],
      "execution_count": null,
      "outputs": []
    },
    {
      "cell_type": "code",
      "metadata": {
        "id": "mgcbHDqNKQFH"
      },
      "source": [
        "#Zadanie 2 - kalkulator\n",
        "\n",
        "liczba1 = input(\"Podaj pierwsza liczbę: \")\n",
        "liczba2 = input(\"Podaj drugą liczbę: \")\n",
        "znak = input(\"Jakie działanie? Wpisz znak arytmetyczny:\")\n",
        "\n",
        "if znak == \"+\":\n",
        "  print(f\"{liczba1} + {liczba2} = {int(liczba1) + int(liczba2)}\")\n",
        "elif znak == \"-\":\n",
        "  print(f\"{liczba1} - {liczba2} = {int(liczba1) - int(liczba2)}\")"
      ],
      "execution_count": null,
      "outputs": []
    },
    {
      "cell_type": "markdown",
      "metadata": {
        "id": "FLhejaTXDHPZ"
      },
      "source": [
        "Pierwsza struktura danych - **lista**"
      ]
    },
    {
      "cell_type": "code",
      "metadata": {
        "id": "mi_eIgvEDNv7",
        "colab": {
          "base_uri": "https://localhost:8080/"
        },
        "outputId": "edea0cf0-4b43-4cb8-a143-cbfe8ccf5159"
      },
      "source": [
        "zmienna_lista = []\n",
        "type(zmienna_lista)"
      ],
      "execution_count": null,
      "outputs": [
        {
          "output_type": "execute_result",
          "data": {
            "text/plain": [
              "list"
            ]
          },
          "metadata": {},
          "execution_count": 4
        }
      ]
    },
    {
      "cell_type": "code",
      "metadata": {
        "id": "dVxBP2x-DQco"
      },
      "source": [
        "lista_zakupow = [\"pomarańcze\", \"jabłka\", \"jogurt\", \"cynamon\"]"
      ],
      "execution_count": null,
      "outputs": []
    },
    {
      "cell_type": "code",
      "metadata": {
        "colab": {
          "base_uri": "https://localhost:8080/"
        },
        "id": "EQb3LQGTDgSO",
        "outputId": "83eaed61-0eca-43dd-b584-29f80b6129bf"
      },
      "source": [
        "type(lista_zakupow)"
      ],
      "execution_count": null,
      "outputs": [
        {
          "output_type": "execute_result",
          "data": {
            "text/plain": [
              "list"
            ]
          },
          "metadata": {},
          "execution_count": 6
        }
      ]
    },
    {
      "cell_type": "code",
      "metadata": {
        "colab": {
          "base_uri": "https://localhost:8080/"
        },
        "id": "47m1xOILDaHf",
        "outputId": "0902c5a5-cef2-4342-f175-80719c1a273b"
      },
      "source": [
        "lista_zakupow"
      ],
      "execution_count": null,
      "outputs": [
        {
          "output_type": "execute_result",
          "data": {
            "text/plain": [
              "['pomarańcze', 'jabłka', 'jogurt', 'cynamon']"
            ]
          },
          "metadata": {},
          "execution_count": 7
        }
      ]
    },
    {
      "cell_type": "code",
      "metadata": {
        "colab": {
          "base_uri": "https://localhost:8080/"
        },
        "id": "dHtUK8lgDWmk",
        "outputId": "3dd61469-8bb4-496a-b4a4-973c85b4d0cb"
      },
      "source": [
        "print(lista_zakupow)"
      ],
      "execution_count": null,
      "outputs": [
        {
          "output_type": "stream",
          "name": "stdout",
          "text": [
            "['pomarańcze', 'jabłka', 'jogurt', 'cynamon']\n"
          ]
        }
      ]
    },
    {
      "cell_type": "code",
      "metadata": {
        "id": "HnIwcJfJEV0N"
      },
      "source": [
        "lista_ciag = [1, 2, 3, 4, 5]"
      ],
      "execution_count": null,
      "outputs": []
    },
    {
      "cell_type": "code",
      "metadata": {
        "colab": {
          "base_uri": "https://localhost:8080/"
        },
        "id": "64KpUh9DIH69",
        "outputId": "cb097ace-b5c1-462e-c2f6-7afd1500ecc8"
      },
      "source": [
        "lista_ciag[::2]"
      ],
      "execution_count": null,
      "outputs": [
        {
          "output_type": "execute_result",
          "data": {
            "text/plain": [
              "[1, 3, 5]"
            ]
          },
          "metadata": {},
          "execution_count": 105
        }
      ]
    },
    {
      "cell_type": "code",
      "metadata": {
        "colab": {
          "base_uri": "https://localhost:8080/",
          "height": 36
        },
        "id": "AOnBYyZXIYJI",
        "outputId": "4b19446d-f41a-48be-808d-e0f01c94b838"
      },
      "source": [
        "lista_zakupow[0][0:4:2]"
      ],
      "execution_count": null,
      "outputs": [
        {
          "output_type": "execute_result",
          "data": {
            "application/vnd.google.colaboratory.intrinsic+json": {
              "type": "string"
            },
            "text/plain": [
              "'pm'"
            ]
          },
          "metadata": {},
          "execution_count": 11
        }
      ]
    },
    {
      "cell_type": "code",
      "metadata": {
        "colab": {
          "base_uri": "https://localhost:8080/"
        },
        "id": "jIv2-kkNEa2b",
        "outputId": "fe672992-d4f4-4960-a573-8312aa4114eb"
      },
      "source": [
        "len(lista_ciag)"
      ],
      "execution_count": null,
      "outputs": [
        {
          "output_type": "execute_result",
          "data": {
            "text/plain": [
              "5"
            ]
          },
          "metadata": {},
          "execution_count": 31
        }
      ]
    },
    {
      "cell_type": "code",
      "metadata": {
        "id": "wIIXaeQWFGig"
      },
      "source": [
        "dir(lista_ciag)"
      ],
      "execution_count": null,
      "outputs": []
    },
    {
      "cell_type": "code",
      "metadata": {
        "id": "9Q7tLoJlJ_j8"
      },
      "source": [
        "#lista_zakupow = lista_zakupow + \"banany\" - blad + konkatenacja"
      ],
      "execution_count": null,
      "outputs": []
    },
    {
      "cell_type": "code",
      "metadata": {
        "id": "XC5kC7NoMp7M"
      },
      "source": [
        "lista_zakupow = lista_zakupow + [\"banany\"]"
      ],
      "execution_count": null,
      "outputs": []
    },
    {
      "cell_type": "code",
      "metadata": {
        "colab": {
          "base_uri": "https://localhost:8080/"
        },
        "id": "FrZEufYMMYrp",
        "outputId": "0d4c840a-2200-4a22-fc30-37331d37e371"
      },
      "source": [
        "lista_zakupow"
      ],
      "execution_count": null,
      "outputs": [
        {
          "output_type": "execute_result",
          "data": {
            "text/plain": [
              "['cynamon', 'jabłka', 'jogurt', 'pomarańcze', 'banany', 'banany']"
            ]
          },
          "metadata": {},
          "execution_count": 109
        }
      ]
    },
    {
      "cell_type": "code",
      "metadata": {
        "id": "RYGWOey3NeUJ"
      },
      "source": [
        "lista_zakupow.insert(2, \"cukier\")"
      ],
      "execution_count": null,
      "outputs": []
    },
    {
      "cell_type": "code",
      "metadata": {
        "id": "M4HeVz9YOJ_1"
      },
      "source": [
        "lista_zakupow.append(\"masło\")"
      ],
      "execution_count": null,
      "outputs": []
    },
    {
      "cell_type": "code",
      "metadata": {
        "id": "YNZhic5QOPXC"
      },
      "source": [
        "lista_zakupow.remove(\"jabłka\")"
      ],
      "execution_count": null,
      "outputs": []
    },
    {
      "cell_type": "code",
      "metadata": {
        "id": "q0UxK5gHOdZ9"
      },
      "source": [
        "lista_zakupow.pop(1)"
      ],
      "execution_count": null,
      "outputs": []
    },
    {
      "cell_type": "code",
      "metadata": {
        "id": "kg2sHBy7OrKi"
      },
      "source": [
        "lista_zakupow.clear()"
      ],
      "execution_count": null,
      "outputs": []
    },
    {
      "cell_type": "code",
      "metadata": {
        "colab": {
          "base_uri": "https://localhost:8080/"
        },
        "id": "Cg8SDGydOxMT",
        "outputId": "8716940c-d744-4cbc-f426-250ce47614d8"
      },
      "source": [
        "lista_zakupow"
      ],
      "execution_count": null,
      "outputs": [
        {
          "output_type": "execute_result",
          "data": {
            "text/plain": [
              "['pomarańcze', 'jogurt', 'jabłka', 'cynamon']"
            ]
          },
          "metadata": {},
          "execution_count": 77
        }
      ]
    },
    {
      "cell_type": "code",
      "metadata": {
        "colab": {
          "base_uri": "https://localhost:8080/"
        },
        "id": "QHz1EiY_dgR9",
        "outputId": "03a3929c-6d47-41fa-b302-fc83fb33042d"
      },
      "source": [
        "lista_zakupow.index(\"cynamon\")"
      ],
      "execution_count": null,
      "outputs": [
        {
          "output_type": "execute_result",
          "data": {
            "text/plain": [
              "0"
            ]
          },
          "metadata": {},
          "execution_count": 103
        }
      ]
    },
    {
      "cell_type": "code",
      "metadata": {
        "id": "zNjJhZETO2ZD"
      },
      "source": [
        "lista_zakupow = [\"pomarańcze\", \"jabłka\", \"jogurt\", \"cynamon\"]"
      ],
      "execution_count": null,
      "outputs": []
    },
    {
      "cell_type": "code",
      "metadata": {
        "id": "SvHFUe69O5Kj"
      },
      "source": [
        "lista_zakupow.sort(reverse=False)"
      ],
      "execution_count": null,
      "outputs": []
    },
    {
      "cell_type": "code",
      "metadata": {
        "colab": {
          "base_uri": "https://localhost:8080/"
        },
        "id": "LI2gGs9Nd1Qo",
        "outputId": "355fddff-4880-4f2f-f825-28fc76b0235e"
      },
      "source": [
        "lista_zakupow"
      ],
      "execution_count": null,
      "outputs": [
        {
          "output_type": "execute_result",
          "data": {
            "text/plain": [
              "['cynamon', 'jabłka', 'jogurt', 'pomarańcze']"
            ]
          },
          "metadata": {},
          "execution_count": 102
        }
      ]
    },
    {
      "cell_type": "markdown",
      "metadata": {
        "id": "fSRN-IB-DvLS"
      },
      "source": [
        "Cechy list:\n",
        "- uporządkowane\n",
        "- modyfikowalne\n",
        "- pozwalają na duplikowanie wartości\n",
        "- w niektórych językach programowania znane są jako tablice\n",
        "- listy mogą składać się z dowolnych typów danych\n"
      ]
    },
    {
      "cell_type": "markdown",
      "metadata": {
        "id": "NspMVE7HPLyw"
      },
      "source": [
        "Warunki"
      ]
    },
    {
      "cell_type": "markdown",
      "metadata": {
        "id": "1EpLJ9oJKxdO"
      },
      "source": [
        "Pętle"
      ]
    },
    {
      "cell_type": "code",
      "metadata": {
        "colab": {
          "base_uri": "https://localhost:8080/"
        },
        "id": "2ZKwSjGqddUr",
        "outputId": "fc86057f-d1ae-4595-daaa-406769b91086"
      },
      "source": [
        "#pętla for\n",
        "\n",
        "#for - dla\n",
        "\n",
        "#pętle w pythonie działają bardziej jak iteratory niż jak pętle w klasycznych językach programowania\n",
        "\n",
        "#DLA każdego elementu W zbiorze elementów:\n",
        "  #zrób coś\n",
        "\n",
        "\n",
        "print(lista_ciag)\n",
        "\n",
        "\n",
        "#DLA każdego elementu W liście:\n",
        "  #wypisz ten element\n",
        "\n",
        "for element in lista_ciag:\n",
        "  print(element * 5)\n"
      ],
      "execution_count": null,
      "outputs": [
        {
          "output_type": "stream",
          "name": "stdout",
          "text": [
            "[1, 2, 3, 4, 5]\n",
            "5\n",
            "10\n",
            "15\n",
            "20\n",
            "25\n"
          ]
        }
      ]
    },
    {
      "cell_type": "code",
      "metadata": {
        "colab": {
          "base_uri": "https://localhost:8080/"
        },
        "id": "3dnpFEq9h7nX",
        "outputId": "adabc233-dc2b-4980-8a47-89aa0d01fdbf"
      },
      "source": [
        "lista_zakupow"
      ],
      "execution_count": null,
      "outputs": [
        {
          "output_type": "execute_result",
          "data": {
            "text/plain": [
              "['pomarańcze', 'jabłka', 'jogurt', 'cynamon']"
            ]
          },
          "metadata": {},
          "execution_count": 118
        }
      ]
    },
    {
      "cell_type": "code",
      "metadata": {
        "colab": {
          "base_uri": "https://localhost:8080/"
        },
        "id": "YsW8E8pfiAJ0",
        "outputId": "444248ca-33e2-4871-d60b-6b3f8f7162da"
      },
      "source": [
        "for rzecz in lista_zakupow:\n",
        "  print(rzecz)\n"
      ],
      "execution_count": null,
      "outputs": [
        {
          "output_type": "stream",
          "name": "stdout",
          "text": [
            "pomarańcze\n",
            "jabłka\n",
            "jogurt\n",
            "cynamon\n"
          ]
        }
      ]
    },
    {
      "cell_type": "code",
      "metadata": {
        "id": "N3RFL3TKxtTo"
      },
      "source": [
        "for rzecz in lista_zakupow:\n",
        "  print(rzecz)\n",
        "  for x in rzecz:\n",
        "    print(x)\n",
        "  print(\"następna rzecz:\")\n"
      ],
      "execution_count": null,
      "outputs": []
    },
    {
      "cell_type": "code",
      "metadata": {
        "colab": {
          "base_uri": "https://localhost:8080/"
        },
        "id": "wJSadrrSiokZ",
        "outputId": "91daf446-7155-45cc-fcb7-f82a10ca6397"
      },
      "source": [
        "for rzecz in lista_zakupow:\n",
        "  if rzecz.startswith(\"j\"):\n",
        "    print(rzecz)"
      ],
      "execution_count": null,
      "outputs": [
        {
          "output_type": "stream",
          "name": "stdout",
          "text": [
            "jabłka\n",
            "jogurt\n"
          ]
        }
      ]
    },
    {
      "cell_type": "code",
      "metadata": {
        "colab": {
          "base_uri": "https://localhost:8080/"
        },
        "id": "x_QV0vvMiAHy",
        "outputId": "0a72fe84-b822-4a69-eed6-0c4bdea2560c"
      },
      "source": [
        "#1 funkcja dotycząca pętli - range()\n",
        "\n",
        "# n = 5\n",
        "\n",
        "# for i in range(n):\n",
        "#   print(i)\n",
        "\n",
        "\n",
        "\n",
        "# *\n",
        "# * *\n",
        "# * * *\n",
        "# * * * *\n",
        "# * * * * *\n",
        "\n",
        "row_counter = 6\n",
        "\n",
        "for i in range(row_counter ):\n",
        "  for j in range(i):\n",
        "    print(\"*\", end=\" \")\n",
        "  print(\" \")\n",
        "\n",
        "\n",
        "\n"
      ],
      "execution_count": null,
      "outputs": [
        {
          "output_type": "stream",
          "name": "stdout",
          "text": [
            " \n",
            "*  \n",
            "* *  \n",
            "* * *  \n",
            "* * * *  \n",
            "* * * * *  \n"
          ]
        }
      ]
    }
  ]
}