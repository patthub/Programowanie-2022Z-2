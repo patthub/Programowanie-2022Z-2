{
  "nbformat": 4,
  "nbformat_minor": 0,
  "metadata": {
    "colab": {
      "name": "If...else and for loops exercises",
      "provenance": []
    },
    "kernelspec": {
      "name": "python3",
      "display_name": "Python 3"
    },
    "language_info": {
      "name": "python"
    }
  },
  "cells": [
    {
      "cell_type": "markdown",
      "metadata": {
        "id": "q00g1Hr2ze_b"
      },
      "source": [
        "If...else"
      ]
    },
    {
      "cell_type": "code",
      "metadata": {
        "id": "jIdx_twO1hjG"
      },
      "source": [
        "#1. Napisz program który sprawdzi, czy wprowadzone przez użytkownika dane typu String są takie same\n",
        "\n",
        "x1 = input(\"wprowadź pierwszy napis: \")\n",
        "x2 = input(\"wprowadź drugi napis: \")\n",
        "\n",
        "\n",
        "if x1 == x2:\n",
        "  print(\"napisy są takie same\")\n",
        "else:\n",
        "  print(\"napisy nie są takie same\")"
      ],
      "execution_count": null,
      "outputs": []
    },
    {
      "cell_type": "code",
      "metadata": {
        "colab": {
          "base_uri": "https://localhost:8080/"
        },
        "id": "MN3TtQlV19Hk",
        "outputId": "1e95d430-214a-49a5-c8d0-f00c154e6ce6"
      },
      "source": [
        "#2. Przekonwertuj dane wpisane przez użytkownika na dane typu integer. \n",
        "#Następnie napisz program który sprawdzi, czy wprowadzone przez użytkownika dane są takie same\n",
        "\n",
        "\n",
        "x1 = input(\"wprowadź pierwszą liczbę: \")\n",
        "x2 = input(\"wprowadź drugą liczbę: \")\n",
        "\n",
        "\n",
        "if int(x1) == int(x2):\n",
        "  print(\"liczby są takie same\")"
      ],
      "execution_count": 30,
      "outputs": [
        {
          "output_type": "stream",
          "name": "stdout",
          "text": [
            "wprowadź pierwszą liczbę: 1\n",
            "wprowadź drugą liczbę: 1\n",
            "liczby są takie same\n"
          ]
        }
      ]
    },
    {
      "cell_type": "code",
      "metadata": {
        "colab": {
          "base_uri": "https://localhost:8080/"
        },
        "id": "biGbK0w-2Ors",
        "outputId": "884506b6-cff2-41ac-902c-50ff7a6b9dd1"
      },
      "source": [
        "#3. Przekonwertuj dane wpisane przez użytkownika na dane typu integer. \n",
        "#Następnie napisz program który sprawdzi, czy wprowadzone przez użytkownika dane są takie same\n",
        "#Jeżeli użytkownik podał w inpucie inne znaki, niż cyfry, wyświetl mu stosowny komunikat\n",
        "\n",
        "\n",
        "x1 = input(\"wprowadź pierwszą liczbę: \")\n",
        "x2 = input(\"wprowadź drugą liczbę: \")\n",
        "\n",
        "if x1.isdigit() and x2.isdigit():\n",
        "  if int(x1) == int(x2):\n",
        "    print(\"liczby są takie same\")\n",
        "  else:\n",
        "    print(\"liczby nie są takie same\")\n",
        "else:\n",
        "  print(\"błędne dane\")"
      ],
      "execution_count": 33,
      "outputs": [
        {
          "output_type": "stream",
          "name": "stdout",
          "text": [
            "wprowadź pierwszą liczbę: a\n",
            "wprowadź drugą liczbę: 1\n",
            "błędne dane\n"
          ]
        }
      ]
    },
    {
      "cell_type": "code",
      "metadata": {
        "colab": {
          "base_uri": "https://localhost:8080/"
        },
        "id": "oCr10DNB3LzB",
        "outputId": "1a811685-5807-40ac-82d7-0d3a4b818b32"
      },
      "source": [
        "#4. Sprawdź, czy użytkownik wpisał liczbę parzystą.\n",
        "\n",
        "x1 = input(\"wprowadź pierwszą liczbę: \")\n",
        "\n",
        "\n",
        "if x1.isdigit():\n",
        "  if int(x1) %2 == 0 :\n",
        "    print(\"liczba jest parzysta\")\n",
        "  else:\n",
        "    print(\"liczba nie jest parzysta\")\n",
        "else:\n",
        "  print(\"błędne dane\")"
      ],
      "execution_count": 39,
      "outputs": [
        {
          "output_type": "stream",
          "name": "stdout",
          "text": [
            "wprowadź pierwszą liczbę: 1\n",
            "liczba nie jest parzysta\n"
          ]
        }
      ]
    },
    {
      "cell_type": "code",
      "metadata": {
        "id": "u-It_phZ8Z0D"
      },
      "source": [
        "#5. Sprawdź, czy użytkownik wpisał liczbę nieparzystą\n",
        "#6. Sprawdź, czy suma dwóch liczb wpisanych przez użytkownika jest liczbą parzystą\n",
        "#7. Sprawdź, czy podane przez użytkownika hasło spełnia następujące warunki\n",
        "  # -  przynajmniej jedna mała i jedna wielka litera\n",
        "  # -  przynajmniej jedna cyfra\n",
        "  # - przynajmniej jeden znak specjalny\n",
        "  # - minimum 3 znaki długości\n",
        "  # - maksymalnie 18 znaków długości\n",
        "#8. Sprawdź, czy wpisana przez użytkownika litera jest spółgłoską albo samogłoską\n",
        "#9. Napisz program, który wyświetli użytkownikowi z ilu dni składa się podany przez niego miesiąc\n",
        "#10. Napisz program, który sprawdzi która z 3 podanych przez użytkownika jest największa oraz najmniejsza\n",
        "#11. Napisz program, który przyjmie od użytkownika napis typu String i wyświetli mu go w odwróconej formie (np Kot - toK)"
      ],
      "execution_count": null,
      "outputs": []
    },
    {
      "cell_type": "markdown",
      "metadata": {
        "id": "K23jAiNZExtL"
      },
      "source": [
        "Listy i pętle - zadania"
      ]
    },
    {
      "cell_type": "code",
      "metadata": {
        "id": "qbs7HD6gEz19"
      },
      "source": [
        "#1. Napisz program, który wypisze na ekranie liczby od 3 do 18\n",
        "#2. Napisz program, który zamieni co drugą literę w słowie PROGRAMOWANIE na dowolny inny znak\n",
        "#3. Napisz program, który przyjmie listę [1, 2, 3, 4, 5] i w wyniku zwróci wartości pomnożone przez liczbę podaną przez użytkownika (w inpucie)\n",
        "#4. Napisz program. który przyjmie od użytkownika dwie liczby. Następnie wyświetli użytkownikowi wszystkie liczby znajdujące się pomiędzy tymi dwiema liczbami\n",
        "#np dla 1 oraz 4 wypisze 1,2,3,4\n",
        "#5. Napisz program, który poda sumę wszystkich liczb w liście [1, 2, 3, 4, 5]\n",
        "#6. Napisz program, który poda sumę wszystkich n liczb, gdzie n to liczba podana przez użytkownika. Np. dla n = 3 wykona działanie 1 + 2 + 3 = 6\n",
        "#7. Napisz program, który przyjmuje od użytkownika String. Następnie zwraca mu liczbe wszystkich cyfr oraz liter w podanym przez niego Stringu.\n",
        "#8. Napisz program, który przyjmie następującą listę [\"Ala\", \"Patryk\", \"Jacek\"] i zamieni wszystkie litery znajdujące się na parzystych indeksach na cyfry\n",
        "#9. Stwórz grę FizzBuzz. Zasady gry:\n",
        "  # - gra przyjmuje na wejściu dowolną tablicę zawierającą obiekty klasy int\n",
        "  # - każdą liczbe podzielną przez 3 program zamienia na słowo Fizz\n",
        "  # - każdą liczbe podzielną przez 5 program zamienia na słowo Buzz\n",
        "  # - każdą liczbe podzielną przez 3 oraz 5 program zamienia na słowo FizzBuzz\n"
      ],
      "execution_count": null,
      "outputs": []
    }
  ]
}