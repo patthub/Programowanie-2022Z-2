{
  "nbformat": 4,
  "nbformat_minor": 0,
  "metadata": {
    "colab": {
      "name": "Programowanie_zaj_3.ipynb",
      "provenance": []
    },
    "kernelspec": {
      "name": "python3",
      "display_name": "Python 3"
    },
    "language_info": {
      "name": "python"
    }
  },
  "cells": [
    {
      "cell_type": "code",
      "metadata": {
        "colab": {
          "base_uri": "https://localhost:8080/"
        },
        "id": "5a3DMJckR7do",
        "outputId": "c5ea8527-bd7b-441c-c5d0-3349bc73c7e0"
      },
      "source": [
        "#Zad1\n",
        "zmienna1 = \"Uwielbiam zajęcia z programowania\"\n",
        "\n",
        "print(zmienna1[13:23])\n",
        "print(zmienna1[-33:])\n",
        "print(zmienna1[1::3])\n",
        "\n",
        "#Zad2\n",
        "zmienna2 = \"Czarny to mój ulubiony kolor. Niestety, kolor czarny bardzo szybko spiera się z moich ubrań\"\n",
        "\n",
        "print(zmienna2.istitle())\n",
        "print(zmienna2.startswith(\"C\"))\n",
        "print(zmienna2.lower().replace(\"czarny\", \"biały\").capitalize())"
      ],
      "execution_count": 1,
      "outputs": [
        {
          "output_type": "stream",
          "name": "stdout",
          "text": [
            "ęcia z pro\n",
            "Uwielbiam zajęcia z programowania\n",
            "wlazęa oawi\n",
            "False\n",
            "True\n",
            "Biały to mój ulubiony kolor. niestety, kolor biały bardzo szybko spiera się z moich ubrań\n"
          ]
        }
      ]
    },
    {
      "cell_type": "markdown",
      "metadata": {
        "id": "w1ymebjPSA_N"
      },
      "source": [
        "Obsługa wejścia"
      ]
    },
    {
      "cell_type": "code",
      "metadata": {
        "colab": {
          "base_uri": "https://localhost:8080/"
        },
        "id": "u3xvSAkLSDV-",
        "outputId": "40bf3f54-0de8-4f60-d0a8-74d138a7f3f6"
      },
      "source": [
        "#Input użytkownika\n",
        "\n",
        "imie = input(\"Jak masz na imię?\")\n",
        "\n",
        "\n",
        "print(\"------------\")\n",
        "\n",
        "print(\"Cześć \" + imie + \"! Miło Cię poznać\")\n",
        "\n",
        "\n",
        "wiek = input(\"Podaj swój wiek: \")2\n",
        "print(\"------------\")\n",
        "\n",
        "print(\"Masz \" + wiek + \" lat\")\n",
        "\n",
        "\n",
        "\n"
      ],
      "execution_count": 65,
      "outputs": [
        {
          "output_type": "stream",
          "name": "stdout",
          "text": [
            "Jak masz na imię?p\n",
            "------------\n",
            "Cześć p! Miło Cię poznać\n",
            "Podaj swój wiek: 8\n",
            "------------\n",
            "Masz 8 lat\n"
          ]
        }
      ]
    },
    {
      "cell_type": "code",
      "metadata": {
        "colab": {
          "base_uri": "https://localhost:8080/"
        },
        "id": "Hq36XhaOXW7q",
        "outputId": "7de98bf3-811c-4619-bf49-632add702a13"
      },
      "source": [
        "liczba = input(\"Podaj liczbę: \")\n",
        "print(liczba)"
      ],
      "execution_count": 69,
      "outputs": [
        {
          "output_type": "stream",
          "name": "stdout",
          "text": [
            "Podaj liczbę: 27\n",
            "27\n"
          ]
        }
      ]
    },
    {
      "cell_type": "code",
      "metadata": {
        "id": "p-nKOInKsyKK"
      },
      "source": [
        "liczba + 10"
      ],
      "execution_count": null,
      "outputs": []
    },
    {
      "cell_type": "code",
      "metadata": {
        "colab": {
          "base_uri": "https://localhost:8080/"
        },
        "id": "lodPCDLqS2fW",
        "outputId": "1278c7e2-8e85-4c8a-a61f-6e0f0085814b"
      },
      "source": [
        "type(wiek)"
      ],
      "execution_count": 71,
      "outputs": [
        {
          "output_type": "execute_result",
          "data": {
            "text/plain": [
              "str"
            ]
          },
          "metadata": {},
          "execution_count": 71
        }
      ]
    },
    {
      "cell_type": "markdown",
      "metadata": {
        "id": "N1KUhUTxW75C"
      },
      "source": [
        "Konwersje"
      ]
    },
    {
      "cell_type": "code",
      "metadata": {
        "id": "w9YEaHuDW899"
      },
      "source": [
        "wiek_int = int(wiek)"
      ],
      "execution_count": 9,
      "outputs": []
    },
    {
      "cell_type": "code",
      "metadata": {
        "colab": {
          "base_uri": "https://localhost:8080/"
        },
        "id": "T6k6Z4thXG-h",
        "outputId": "f3789932-ea97-4c55-d221-5effb2f17ed5"
      },
      "source": [
        "type(wiek_int)"
      ],
      "execution_count": 10,
      "outputs": [
        {
          "output_type": "execute_result",
          "data": {
            "text/plain": [
              "int"
            ]
          },
          "metadata": {},
          "execution_count": 10
        }
      ]
    },
    {
      "cell_type": "code",
      "metadata": {
        "id": "5VKvmh3nYLUp"
      },
      "source": [
        "wiek_float = float(wiek)"
      ],
      "execution_count": 19,
      "outputs": []
    },
    {
      "cell_type": "code",
      "metadata": {
        "colab": {
          "base_uri": "https://localhost:8080/"
        },
        "id": "NzbQgZYEYOor",
        "outputId": "111f940d-63aa-421c-946d-4562a46c4659"
      },
      "source": [
        "wiek_float"
      ],
      "execution_count": 20,
      "outputs": [
        {
          "output_type": "execute_result",
          "data": {
            "text/plain": [
              "28.0"
            ]
          },
          "metadata": {},
          "execution_count": 20
        }
      ]
    },
    {
      "cell_type": "code",
      "metadata": {
        "colab": {
          "base_uri": "https://localhost:8080/"
        },
        "id": "VA0mswu5YSqt",
        "outputId": "300e14e7-7a18-484f-8ed5-54b6206ee35f"
      },
      "source": [
        "wiek1 = input(\"Podaj swój wiek: \")"
      ],
      "execution_count": 73,
      "outputs": [
        {
          "name": "stdout",
          "output_type": "stream",
          "text": [
            "Podaj swój wiek: 28 lat\n"
          ]
        }
      ]
    },
    {
      "cell_type": "code",
      "metadata": {
        "colab": {
          "base_uri": "https://localhost:8080/"
        },
        "id": "FV-tJiZcYWMP",
        "outputId": "4c7c497c-a58b-456a-d312-15b8d0f38821"
      },
      "source": [
        "print(wiek1.isdigit())"
      ],
      "execution_count": 72,
      "outputs": [
        {
          "output_type": "stream",
          "name": "stdout",
          "text": [
            "False\n"
          ]
        }
      ]
    },
    {
      "cell_type": "code",
      "metadata": {
        "id": "SBwbnPXmYZKb"
      },
      "source": [
        "int(wiek1)"
      ],
      "execution_count": null,
      "outputs": []
    },
    {
      "cell_type": "code",
      "metadata": {
        "id": "3Yj2Ru4bblXR"
      },
      "source": [
        "#Warunki "
      ],
      "execution_count": null,
      "outputs": []
    },
    {
      "cell_type": "code",
      "metadata": {
        "colab": {
          "base_uri": "https://localhost:8080/"
        },
        "id": "l52qWCm1bmqw",
        "outputId": "a23b7647-f751-48bb-c224-37b06f2ee5ca"
      },
      "source": [
        "#Warunek if\n",
        "\n",
        "\n",
        "\n",
        "# if warunek:\n",
        "#   zrób coś\n",
        "\n",
        "\n",
        "x1 = 26\n",
        "\n",
        "\n",
        "\n",
        "if x1 > 26:\n",
        "  print(\"Zmienna jest większa od 26\")\n",
        "elif x1 == 26:\n",
        "  print(\"Zmienna jest równa 26\")\n",
        "else:\n",
        "  print(\"Zmienna jest mniejsza od 26\")"
      ],
      "execution_count": 44,
      "outputs": [
        {
          "output_type": "stream",
          "name": "stdout",
          "text": [
            "Zmienna jest równa 26\n"
          ]
        }
      ]
    },
    {
      "cell_type": "code",
      "metadata": {
        "colab": {
          "base_uri": "https://localhost:8080/"
        },
        "id": "74jcoPuKn4U7",
        "outputId": "827e50b2-deb5-451a-b423-289938dbe803"
      },
      "source": [
        "x2 = \"123456\"\n",
        "\n",
        "print(len(x2))\n",
        "\n",
        "print(x2.isalpha())\n",
        "\n",
        "if len(x2) == 6 and x2.isalpha():\n",
        "  print(\"Długość zmiennej wynosi 6. Zmienna składa się z samych liter\")\n",
        "elif len(x2) == 6 and x2.isdigit():\n",
        "    print(\"Długość zmiennej wynosi 6. Zmienna składa się ze znaków numerycznych\")\n",
        "else:\n",
        "  print(\"Długość zmiennej jest różna od 6\")\n"
      ],
      "execution_count": 61,
      "outputs": [
        {
          "output_type": "stream",
          "name": "stdout",
          "text": [
            "6\n",
            "False\n",
            "Długość zmiennej wynosi 6. Zmienna składa się ze znaków numerycznych\n"
          ]
        }
      ]
    },
    {
      "cell_type": "code",
      "metadata": {
        "id": "6CwcqW4KYq7i"
      },
      "source": [
        "wiek = input(\"Podaj swój wiek: \")\n",
        "\n",
        "if wiek.isdigit() == True:\n",
        "  print(\"ok\")\n",
        "  wiek_int = int(wiek)\n",
        "  print(wiek_int)\n",
        "else:\n",
        "  print(\"podaj liczbę\")\n",
        "\n",
        "\n"
      ],
      "execution_count": null,
      "outputs": []
    },
    {
      "cell_type": "code",
      "metadata": {
        "colab": {
          "base_uri": "https://localhost:8080/"
        },
        "id": "27NyghcH6_7_",
        "outputId": "bc1b0da7-ff60-44fd-a3ed-56134d46a57a"
      },
      "source": [
        "wiek = input(\"Podaj swój wiek: \")\n",
        "\n",
        "if wiek.isdigit() == True:\n",
        "  print(\"Podany wiek jest liczbą\")\n",
        "  print(wiek, type(wiek))\n",
        "  wiek_int = int(wiek)\n",
        "  print(\"po konwersji: \")\n",
        "  print(wiek_int, type(wiek_int))\n",
        "else:\n",
        "  print(\"Podaj wiek w postaci liczby\")\n"
      ],
      "execution_count": 128,
      "outputs": [
        {
          "output_type": "stream",
          "name": "stdout",
          "text": [
            "Podaj swój wiek: aegaegaebaeb\n",
            "Podaj wiek w postaci liczby\n"
          ]
        }
      ]
    },
    {
      "cell_type": "code",
      "metadata": {
        "colab": {
          "base_uri": "https://localhost:8080/"
        },
        "id": "1bstOted7MGt",
        "outputId": "a217d4b5-b52c-4568-f838-2be400413331"
      },
    
      "cell_type": "code",
      "metadata": {
        "colab": {
          "base_uri": "https://localhost:8080/"
        },
        "id": "arGVj4eWoAT6",
        "outputId": "752428c4-c7a4-4737-96e9-a92918749727"
      },
      "source": [
        "zmienna3 = \"Ala ma kot\"\n",
        "\n",
        "\n",
        "if len(zmienna3) > 10:\n",
        "  print(\"Długość zmiennej jest większa niż 10\")\n",
        "  if zmienna3.startswith(\"A\"):\n",
        "    print(\"Zmienna zaczyna się od A\")\n",
        "  else:\n",
        "        print(\"Zmienna nie zaczyna się od A\")\n",
        "else:\n",
        "  print(\"Długość zmiennej jest mniejsza bądź równa 10\")"
      ],
      "execution_count": 115,
      "outputs": [
        {
          "output_type": "stream",
          "name": "stdout",
          "text": [
            "Długość zmiennej jest mniejsza bądź równa 10\n"
          ]
        }
      ]
    }
  ]
}
