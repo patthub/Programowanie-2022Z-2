{
  "cells": [
    {
      "cell_type": "markdown",
      "metadata": {
        "id": "Ju97zC1ahWWp"
      },
      "source": [
        "Powtórka\n",
        "\n",
        "---\n",
        "\n"
      ]
    },
    {
      "cell_type": "code",
      "execution_count": null,
      "metadata": {
        "id": "5B4bihgthTr_"
      },
      "outputs": [],
      "source": [
        "print(\"Hello World!\") #funkcja do wyświetlania (drukowania) informacji na ekranie\n",
        "type(12) #https://docs.python.org/3/library/functions.html#type\n",
        "dir(\"Hello\") #https://docs.python.org/3/library/functions.html#dir\n",
        "\n",
        "x1 = 1 \n",
        "x2 = 1.5\n",
        "x3 = \"Zmienna\"\n",
        "x4 = True\n",
        "\n",
        "x1 + x2\n",
        "x1 - x2\n",
        "x1 * x2\n",
        "x1 / x2\n",
        "x1 % x2\n",
        "x1 ** x2\n",
        "\n",
        "x1 == x2\n",
        "x1 != x2\n",
        "x1 < x2\n",
        "x1 > x2\n",
        "x1 >= x2\n",
        "x1 <= x2"
      ]
    },
    {
      "cell_type": "code",
      "execution_count": 145,
      "metadata": {
        "id": "VdJxPRHvpfTE"
      },
      "outputs": [],
      "source": [
        "ciag_liczbowy = \"12345\""
      ]
    },
    {
      "cell_type": "code",
      "execution_count": 146,
      "metadata": {
        "colab": {
          "base_uri": "https://localhost:8080/"
        },
        "id": "eRyncUgcxptc",
        "outputId": "ea7aae36-e4df-4309-c6c4-e84ea9639047"
      },
      "outputs": [
        {
          "data": {
            "text/plain": [
              "str"
            ]
          },
          "execution_count": 146,
          "metadata": {},
          "output_type": "execute_result"
        }
      ],
      "source": [
        "type(ciag_liczbowy)"
      ]
    },
    {
      "cell_type": "markdown",
      "metadata": {
        "id": "Ej1ps_46y2TW"
      },
      "source": [
        "Indeksowanie stringów"
      ]
    },
    {
      "cell_type": "code",
      "execution_count": 150,
      "metadata": {
        "colab": {
          "base_uri": "https://localhost:8080/",
          "height": 35
        },
        "id": "ymc4h9NLsVX-",
        "outputId": "03aec4bf-cde5-40bb-9b3f-876ea6674e6b"
      },
      "outputs": [
        {
          "data": {
            "application/vnd.google.colaboratory.intrinsic+json": {
              "type": "string"
            },
            "text/plain": [
              "'5'"
            ]
          },
          "execution_count": 150,
          "metadata": {},
          "output_type": "execute_result"
        }
      ],
      "source": [
        "ciag_liczbowy[1]\n",
        "ciag_liczbowy[0]\n",
        "ciag_liczbowy[4]\n",
        "# ciag_liczbowy[5]\n",
        "# ciag_liczbowy[-1]\n",
        "# ciag_liczbowy[-5]"
      ]
    },
    {
      "cell_type": "code",
      "execution_count": null,
      "metadata": {
        "id": "IgX8EhJ-4xia"
      },
      "outputs": [],
      "source": [
        "# P A T R Y K\n",
        "# 0 1 2 3 4 5 - indeksy licząc od lewej\n",
        "# 6 5 4 3 2 1 - indeksy licząc od prawej (każdy z minusem)"
      ]
    },
    {
      "cell_type": "markdown",
      "metadata": {
        "id": "Nc5_Yphr1QAd"
      },
      "source": [
        " String slicing"
      ]
    },
    {
      "cell_type": "code",
      "execution_count": 47,
      "metadata": {
        "colab": {
          "base_uri": "https://localhost:8080/",
          "height": 35
        },
        "id": "ZWBXwbpj1ENu",
        "outputId": "4b7a0273-2c7f-43b2-aba2-b7579a3c7e80"
      },
      "outputs": [
        {
          "data": {
            "application/vnd.google.colaboratory.intrinsic+json": {
              "type": "string"
            },
            "text/plain": [
              "'34'"
            ]
          },
          "execution_count": 47,
          "metadata": {},
          "output_type": "execute_result"
        }
      ],
      "source": [
        "ciag_liczbowy[0:3]\n",
        "ciag_liczbowy[0:7]\n",
        "\n",
        "\n",
        "ciag_liczbowy[-1:-3]\n",
        "ciag_liczbowy[-3:-1]"
      ]
    },
    {
      "cell_type": "code",
      "execution_count": 56,
      "metadata": {
        "colab": {
          "base_uri": "https://localhost:8080/",
          "height": 35
        },
        "id": "KdjKUmaP3i4g",
        "outputId": "6b1fe4bb-52a0-4d83-a1d9-314fc45bd580"
      },
      "outputs": [
        {
          "data": {
            "application/vnd.google.colaboratory.intrinsic+json": {
              "type": "string"
            },
            "text/plain": [
              "'345'"
            ]
          },
          "execution_count": 56,
          "metadata": {},
          "output_type": "execute_result"
        }
      ],
      "source": [
        "ciag_liczbowy[:5]\n",
        "ciag_liczbowy[0:]\n",
        "\n",
        "ciag_liczbowy[:3]\n",
        "ciag_liczbowy[3:]\n",
        "\n",
        "ciag_liczbowy[-3:]\n",
        "\n",
        "\n"
      ]
    },
    {
      "cell_type": "markdown",
      "metadata": {
        "id": "BusUZXfp5gzJ"
      },
      "source": [
        "String slicing z krokiem"
      ]
    },
    {
      "cell_type": "code",
      "execution_count": null,
      "metadata": {
        "id": "ZCf3ND6g5EZj"
      },
      "outputs": [],
      "source": [
        "# ciag_liczbowy[początek:koniec:krok]"
      ]
    },
    {
      "cell_type": "code",
      "execution_count": 78,
      "metadata": {
        "colab": {
          "base_uri": "https://localhost:8080/",
          "height": 35
        },
        "id": "tA_HZ-_z5op0",
        "outputId": "45f8c837-60c0-45d0-82f4-c6d7bdb331c7"
      },
      "outputs": [
        {
          "data": {
            "application/vnd.google.colaboratory.intrinsic+json": {
              "type": "string"
            },
            "text/plain": [
              "'531'"
            ]
          },
          "execution_count": 78,
          "metadata": {},
          "output_type": "execute_result"
        }
      ],
      "source": [
        "ciag_liczbowy[0:5:2]\n",
        "ciag_liczbowy[0:5:3]\n",
        "ciag_liczbowy[0:5:-2]\n",
        "\n",
        "ciag_liczbowy[0:5:12]\n",
        "\n",
        "ciag_liczbowy[0:5:None] #None\n",
        "\n",
        "\n",
        "ciag_liczbowy[-6:-1:-2]\n",
        "\n",
        "\n",
        "ciag_liczbowy[::2]\n",
        "ciag_liczbowy[::-2]\n",
        "\n"
      ]
    },
    {
      "cell_type": "markdown",
      "metadata": {
        "id": "puPkl-sxAsIb"
      },
      "source": [
        "Wybrane metody dla danych typu String"
      ]
    },
    {
      "cell_type": "markdown",
      "metadata": {
        "id": "SC6ptly8BHoo"
      },
      "source": [
        "Funkcja vs metoda"
      ]
    },
    {
      "cell_type": "code",
      "execution_count": null,
      "metadata": {
        "id": "fiFgrgjaBI3x"
      },
      "outputs": [],
      "source": [
        "#Funkcja jest niezależna od obiektu\n",
        "#metoda wykonywana jest na konkretnym obiekcie\n",
        "\n",
        "#funkcja(argumenty funkcji)\n",
        "#obiekt.metoda(argumenty metody)\n",
        "\n",
        "print(\"Hello\") #funkcja"
      ]
    },
    {
      "cell_type": "code",
      "execution_count": 79,
      "metadata": {
        "id": "WY51fiROAvwS"
      },
      "outputs": [],
      "source": [
        "wierszyk1 = \"Ala ma kota\""
      ]
    },
    {
      "cell_type": "code",
      "execution_count": 84,
      "metadata": {
        "colab": {
          "base_uri": "https://localhost:8080/",
          "height": 35
        },
        "id": "ckIpRV3aA3CA",
        "outputId": "3a7cf883-7032-4179-b755-cb1088feb50b"
      },
      "outputs": [
        {
          "data": {
            "application/vnd.google.colaboratory.intrinsic+json": {
              "type": "string"
            },
            "text/plain": [
              "'ALA MA KOTA'"
            ]
          },
          "execution_count": 84,
          "metadata": {},
          "output_type": "execute_result"
        }
      ],
      "source": [
        "wierszyk1.upper()"
      ]
    },
    {
      "cell_type": "code",
      "execution_count": 86,
      "metadata": {
        "colab": {
          "base_uri": "https://localhost:8080/",
          "height": 35
        },
        "id": "Xcc4HLMbBh6t",
        "outputId": "64f20792-10d7-4cbf-e4ba-590bafa06c1a"
      },
      "outputs": [
        {
          "data": {
            "application/vnd.google.colaboratory.intrinsic+json": {
              "type": "string"
            },
            "text/plain": [
              "'12345'"
            ]
          },
          "execution_count": 86,
          "metadata": {},
          "output_type": "execute_result"
        }
      ],
      "source": [
        "ciag_liczbowy.lower()"
      ]
    },
    {
      "cell_type": "code",
      "execution_count": 117,
      "metadata": {
        "id": "eMMbKB5qB0Wv"
      },
      "outputs": [],
      "source": [
        "wierszyk2 = \"ala ma kota\""
      ]
    },
    {
      "cell_type": "code",
      "execution_count": 88,
      "metadata": {
        "colab": {
          "base_uri": "https://localhost:8080/",
          "height": 35
        },
        "id": "d7lcNkjxB3z-",
        "outputId": "00032aa6-8fc5-4b8a-fcf2-b85abe3b4cf8"
      },
      "outputs": [
        {
          "data": {
            "application/vnd.google.colaboratory.intrinsic+json": {
              "type": "string"
            },
            "text/plain": [
              "'Ala ma kota'"
            ]
          },
          "execution_count": 88,
          "metadata": {},
          "output_type": "execute_result"
        }
      ],
      "source": [
        "wierszyk2.capitalize()"
      ]
    },
    {
      "cell_type": "code",
      "execution_count": 89,
      "metadata": {
        "colab": {
          "base_uri": "https://localhost:8080/",
          "height": 35
        },
        "id": "IvP8AxglB66K",
        "outputId": "13485871-49f8-464a-9fc9-feb171dca397"
      },
      "outputs": [
        {
          "data": {
            "application/vnd.google.colaboratory.intrinsic+json": {
              "type": "string"
            },
            "text/plain": [
              "'Ala Ma Kota'"
            ]
          },
          "execution_count": 89,
          "metadata": {},
          "output_type": "execute_result"
        }
      ],
      "source": [
        "wierszyk2.title()"
      ]
    },
    {
      "cell_type": "code",
      "execution_count": 91,
      "metadata": {
        "colab": {
          "base_uri": "https://localhost:8080/"
        },
        "id": "fu5ID4WSB-DB",
        "outputId": "ff3cd73c-29fa-4ebe-c05a-2444f38e1738"
      },
      "outputs": [
        {
          "data": {
            "text/plain": [
              "0"
            ]
          },
          "execution_count": 91,
          "metadata": {},
          "output_type": "execute_result"
        }
      ],
      "source": [
        "wierszyk2.find(\"ala\") #https://www.w3schools.com/python/ref_string_find.asp"
      ]
    },
    {
      "cell_type": "code",
      "execution_count": 103,
      "metadata": {
        "colab": {
          "base_uri": "https://localhost:8080/",
          "height": 35
        },
        "id": "kwJ9EmROCzAq",
        "outputId": "a6eabe68-9876-4e0e-b1ce-8e0b53f9bbe7"
      },
      "outputs": [
        {
          "data": {
            "application/vnd.google.colaboratory.intrinsic+json": {
              "type": "string"
            },
            "text/plain": [
              "'blb mb kotb'"
            ]
          },
          "execution_count": 103,
          "metadata": {},
          "output_type": "execute_result"
        }
      ],
      "source": [
        "wierszyk2.replace(\"a\", \"b\")"
      ]
    },
    {
      "cell_type": "code",
      "execution_count": 108,
      "metadata": {
        "colab": {
          "base_uri": "https://localhost:8080/",
          "height": 35
        },
        "id": "dRSEgLyJpGu8",
        "outputId": "9d902986-15d1-48f4-ea53-2798d3bde91f"
      },
      "outputs": [
        {
          "data": {
            "application/vnd.google.colaboratory.intrinsic+json": {
              "type": "string"
            },
            "text/plain": [
              "'ala ma kota'"
            ]
          },
          "execution_count": 108,
          "metadata": {},
          "output_type": "execute_result"
        }
      ],
      "source": [
        "wierszyk2.replace(\"Ala\", \"kot\")"
      ]
    },
    {
      "cell_type": "code",
      "execution_count": 118,
      "metadata": {
        "colab": {
          "base_uri": "https://localhost:8080/"
        },
        "id": "knC6U52lJDxV",
        "outputId": "19f98a55-f909-46d1-84dd-31a7dc6aa89c"
      },
      "outputs": [
        {
          "data": {
            "text/plain": [
              "False"
            ]
          },
          "execution_count": 118,
          "metadata": {},
          "output_type": "execute_result"
        }
      ],
      "source": [
        "wierszyk2.isupper()\n",
        "wierszyk2.islower()\n",
        "wierszyk2.isalnum()"
      ]
    },
    {
      "cell_type": "code",
      "execution_count": 123,
      "metadata": {
        "colab": {
          "base_uri": "https://localhost:8080/"
        },
        "id": "h7mSt1oWpxB4",
        "outputId": "9eef983e-4075-49fc-f04d-7bb0563b85a1"
      },
      "outputs": [
        {
          "data": {
            "text/plain": [
              "False"
            ]
          },
          "execution_count": 123,
          "metadata": {},
          "output_type": "execute_result"
        }
      ],
      "source": [
        "wierszyk2.startswith(\"A\")\n",
        "wierszyk2.endswith(\" \")"
      ]
    }
  ],
  "metadata": {
    "colab": {
      "name": "Programowanie_zaj_2",
      "provenance": []
    },
    "kernelspec": {
      "display_name": "Python 3",
      "name": "python3"
    },
    "language_info": {
      "name": "python"
    }
  },
  "nbformat": 4,
  "nbformat_minor": 0
}
